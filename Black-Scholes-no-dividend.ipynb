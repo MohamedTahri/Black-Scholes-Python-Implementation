{
 "cells": [
  {
   "cell_type": "markdown",
   "metadata": {},
   "source": [
    "### Implementation of Black-Scholes formula for non-dividend paying options:"
   ]
  },
  {
   "cell_type": "code",
   "execution_count": 1,
   "metadata": {},
   "outputs": [],
   "source": [
    "# import necessary packages\n",
    "import numpy as np\n",
    "import scipy.stats as si\n",
    "import sympy as sy\n",
    "from sympy.stats import Normal, cdf"
   ]
  },
  {
   "cell_type": "code",
   "execution_count": 2,
   "metadata": {},
   "outputs": [],
   "source": [
    "class Pricer:\n",
    "    \n",
    "    def __init__(self, spot, strike, maturity, rate, sigma): \n",
    "        self.spot = spot               # spot price\n",
    "        self.strike = strike          # strike price\n",
    "        self.maturity = maturity    # time to maturity\n",
    "        self.rate = rate            # interest rate\n",
    "        self.sigma = sigma          # volatility of underlying asset\n",
    "    \n",
    "    def call(self):\n",
    "        \n",
    "        d1 = (np.log(self.spot / self.strike) + (self.rate + 0.5 * self.sigma ** 2) * self.maturity) / (self.sigma * np.sqrt(self.maturity))\n",
    "        d2 = (np.log(self.spot / self.strike) + (self.rate - 0.5 * self.sigma ** 2) * self.maturity) / (self.sigma * np.sqrt(self.maturity))\n",
    "    \n",
    "        call_price = (self.spot * si.norm.cdf(d1, 0.0, 1.0) - self.strike * np.exp(-self.rate * self.maturity) * si.norm.cdf(d2, 0.0, 1.0))\n",
    "        \n",
    "        return call_price\n",
    "    \n",
    "    def put(self):\n",
    "        \n",
    "        d1 = (np.log(self.spot / self.strike) + (self.rate + 0.5 * self.sigma ** 2) * self.maturity) / (self.sigma * np.sqrt(self.maturity))\n",
    "        d2 = (np.log(self.spot / self.strike) + (self.rate - 0.5 * self.sigma ** 2) * self.maturity) / (self.sigma * np.sqrt(self.maturity))\n",
    "    \n",
    "        put_price = (self.strike * np.exp(-self.rate * self.maturity) * si.norm.cdf(-d2, 0.0, 1.0) - self.spot * si.norm.cdf(-d1, 0.0, 1.0))\n",
    "        \n",
    "        return put_price\n",
    "    \n",
    "    "
   ]
  },
  {
   "cell_type": "markdown",
   "metadata": {},
   "source": [
    "### Examples \n",
    "\n",
    "a call with :\n",
    "s = 50,\n",
    "k = 100,\n",
    "T = 1,\n",
    "r = 0.05,\n",
    "sigma = 0.25"
   ]
  },
  {
   "cell_type": "code",
   "execution_count": 3,
   "metadata": {},
   "outputs": [
    {
     "data": {
      "text/plain": [
       "0.027352509369436617"
      ]
     },
     "execution_count": 3,
     "metadata": {},
     "output_type": "execute_result"
    }
   ],
   "source": [
    "pricer = Pricer(50, 100, 1, 0.05, 0.25) \n",
    "pricer.call()"
   ]
  },
  {
   "cell_type": "markdown",
   "metadata": {},
   "source": [
    "a put with :\n",
    "s = 50,\n",
    "k = 100,\n",
    "T = 1,\n",
    "r = 0.05,\n",
    "sigma = 0.25"
   ]
  },
  {
   "cell_type": "code",
   "execution_count": 4,
   "metadata": {},
   "outputs": [
    {
     "data": {
      "text/plain": [
       "45.15029495944084"
      ]
     },
     "execution_count": 4,
     "metadata": {},
     "output_type": "execute_result"
    }
   ],
   "source": [
    "pricer = Pricer(50, 100, 1, 0.05, 0.25) \n",
    "pricer.put()"
   ]
  },
  {
   "cell_type": "code",
   "execution_count": null,
   "metadata": {},
   "outputs": [],
   "source": []
  }
 ],
 "metadata": {
  "kernelspec": {
   "display_name": "Python 3",
   "language": "python",
   "name": "python3"
  },
  "language_info": {
   "codemirror_mode": {
    "name": "ipython",
    "version": 3
   },
   "file_extension": ".py",
   "mimetype": "text/x-python",
   "name": "python",
   "nbconvert_exporter": "python",
   "pygments_lexer": "ipython3",
   "version": "3.7.4"
  }
 },
 "nbformat": 4,
 "nbformat_minor": 2
}
